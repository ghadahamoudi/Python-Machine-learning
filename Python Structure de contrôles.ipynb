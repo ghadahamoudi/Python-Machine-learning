{
 "cells": [
  {
   "cell_type": "markdown",
   "id": "b8c6dc6a",
   "metadata": {},
   "source": [
    "# Les Structures de controles\n"
   ]
  },
  {
   "cell_type": "code",
   "execution_count": 28,
   "id": "8667e807",
   "metadata": {},
   "outputs": [
    {
     "name": "stdout",
     "output_type": "stream",
     "text": [
      "10 positif\n"
     ]
    }
   ],
   "source": [
    "x = 10\n",
    "\n",
    "if x > 0:\n",
    "    print(x, 'positif')\n",
    "elif x == 0:  \n",
    "    print(x ,'nul')\n",
    "else: \n",
    "    print(x, 'négatif')\n"
   ]
  },
  {
   "cell_type": "code",
   "execution_count": 29,
   "id": "bbc12ad1",
   "metadata": {},
   "outputs": [
    {
     "name": "stdout",
     "output_type": "stream",
     "text": [
      "0 nul\n"
     ]
    }
   ],
   "source": [
    "def signe(x):\n",
    "    if (x > 0):\n",
    "        print(x, 'positif ')\n",
    "    elif x == 0:  \n",
    "        print(x ,'nul')\n",
    "    else: \n",
    "        print(x, 'négatif')\n",
    "\n",
    "signe(0)        "
   ]
  },
  {
   "cell_type": "code",
   "execution_count": 30,
   "id": "d8d65220",
   "metadata": {},
   "outputs": [
    {
     "name": "stdout",
     "output_type": "stream",
     "text": [
      "10 positif \n",
      "9 positif \n",
      "8 positif \n",
      "7 positif \n",
      "6 positif \n",
      "5 positif \n",
      "4 positif \n",
      "3 positif \n",
      "2 positif \n",
      "1 positif \n",
      "0 nul\n",
      "-1 négatif\n",
      "-2 négatif\n",
      "-3 négatif\n",
      "-4 négatif\n",
      "-5 négatif\n",
      "-6 négatif\n",
      "-7 négatif\n",
      "-8 négatif\n",
      "-9 négatif\n"
     ]
    }
   ],
   "source": [
    "#range(debut,fin,pas )\n",
    "for i in range(10,-10,-1):\n",
    "    signe(i)"
   ]
  },
  {
   "cell_type": "code",
   "execution_count": 31,
   "id": "54ad31c5",
   "metadata": {},
   "outputs": [
    {
     "name": "stdout",
     "output_type": "stream",
     "text": [
      "0\n",
      "1\n",
      "2\n",
      "3\n",
      "4\n",
      "5\n",
      "6\n",
      "7\n",
      "8\n",
      "9\n"
     ]
    }
   ],
   "source": [
    "x = 0\n",
    "\n",
    "while x < 10:\n",
    "    print(x)\n",
    "    x += 1"
   ]
  },
  {
   "cell_type": "code",
   "execution_count": null,
   "id": "f89d9b4b",
   "metadata": {},
   "outputs": [],
   "source": []
  },
  {
   "cell_type": "code",
   "execution_count": null,
   "id": "9f928233",
   "metadata": {},
   "outputs": [],
   "source": []
  },
  {
   "cell_type": "code",
   "execution_count": null,
   "id": "2c0b9206",
   "metadata": {},
   "outputs": [],
   "source": []
  },
  {
   "cell_type": "code",
   "execution_count": null,
   "id": "75e6f248",
   "metadata": {},
   "outputs": [],
   "source": []
  },
  {
   "cell_type": "code",
   "execution_count": null,
   "id": "8029a56a",
   "metadata": {},
   "outputs": [],
   "source": []
  }
 ],
 "metadata": {
  "kernelspec": {
   "display_name": "Python 3 (ipykernel)",
   "language": "python",
   "name": "python3"
  },
  "language_info": {
   "codemirror_mode": {
    "name": "ipython",
    "version": 3
   },
   "file_extension": ".py",
   "mimetype": "text/x-python",
   "name": "python",
   "nbconvert_exporter": "python",
   "pygments_lexer": "ipython3",
   "version": "3.11.5"
  }
 },
 "nbformat": 4,
 "nbformat_minor": 5
}
