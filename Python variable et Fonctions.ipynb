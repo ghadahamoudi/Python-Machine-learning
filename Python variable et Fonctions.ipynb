{
 "cells": [
  {
   "cell_type": "markdown",
   "id": "08b43d08",
   "metadata": {},
   "source": [
    "# Python Variable set Functions\n"
   ]
  },
  {
   "cell_type": "code",
   "execution_count": 13,
   "id": "90dc922d",
   "metadata": {},
   "outputs": [
    {
     "name": "stdout",
     "output_type": "stream",
     "text": [
      "20\n"
     ]
    }
   ],
   "source": [
    "x = 20\n",
    "print(x)"
   ]
  },
  {
   "cell_type": "code",
   "execution_count": 14,
   "id": "ac77f586",
   "metadata": {},
   "outputs": [
    {
     "name": "stdout",
     "output_type": "stream",
     "text": [
      "16\n",
      "4\n",
      "1.6666666666666667\n",
      "1000000\n"
     ]
    }
   ],
   "source": [
    "x = 10\n",
    "y = 6\n",
    "\n",
    "#Arithmetique\n",
    "print (x + y)\n",
    "print (x - y)\n",
    "print (x / y)\n",
    "print (x ** y)\n"
   ]
  },
  {
   "cell_type": "code",
   "execution_count": 15,
   "id": "23dc359e",
   "metadata": {},
   "outputs": [
    {
     "name": "stdout",
     "output_type": "stream",
     "text": [
      "False\n",
      "True\n",
      "False\n",
      "True\n"
     ]
    }
   ],
   "source": [
    "#Comparaison\n",
    "print (x <= y)\n",
    "print (x >= y)\n",
    "print (x == y)\n",
    "print (x != y)"
   ]
  },
  {
   "cell_type": "code",
   "execution_count": 19,
   "id": "9ad6b7c6",
   "metadata": {},
   "outputs": [
    {
     "name": "stdout",
     "output_type": "stream",
     "text": [
      "Ghada\n"
     ]
    }
   ],
   "source": [
    "#String\n",
    "prenom = \"Ghada\"\n",
    "print(prenom)"
   ]
  },
  {
   "cell_type": "code",
   "execution_count": 22,
   "id": "b5bcda86",
   "metadata": {},
   "outputs": [
    {
     "name": "stdout",
     "output_type": "stream",
     "text": [
      "9\n",
      "36\n",
      "121\n"
     ]
    }
   ],
   "source": [
    "f = lambda x: x**2\n",
    "   \n",
    "print(f(3))\n",
    "print(f(6))\n",
    "print(f(11))"
   ]
  },
  {
   "cell_type": "code",
   "execution_count": 29,
   "id": "cdf41d13",
   "metadata": {},
   "outputs": [
    {
     "name": "stdout",
     "output_type": "stream",
     "text": [
      "g\n",
      "3924.0 Joules\n"
     ]
    }
   ],
   "source": [
    "def e(masse, hauteur, g = 9.81):\n",
    "    E = masse * hauteur * g\n",
    "    print(E, 'Joules')\n",
    "    return E\n",
    "\n",
    "print(\"g\")    \n",
    "resultat = e(80, 5)    \n",
    "    "
   ]
  },
  {
   "cell_type": "code",
   "execution_count": null,
   "id": "7762c260",
   "metadata": {},
   "outputs": [],
   "source": []
  },
  {
   "cell_type": "code",
   "execution_count": null,
   "id": "47926ecd",
   "metadata": {},
   "outputs": [],
   "source": []
  },
  {
   "cell_type": "code",
   "execution_count": null,
   "id": "09bf0a12",
   "metadata": {},
   "outputs": [],
   "source": []
  },
  {
   "cell_type": "code",
   "execution_count": null,
   "id": "ec9bea33",
   "metadata": {},
   "outputs": [],
   "source": []
  }
 ],
 "metadata": {
  "kernelspec": {
   "display_name": "Python 3 (ipykernel)",
   "language": "python",
   "name": "python3"
  },
  "language_info": {
   "codemirror_mode": {
    "name": "ipython",
    "version": 3
   },
   "file_extension": ".py",
   "mimetype": "text/x-python",
   "name": "python",
   "nbconvert_exporter": "python",
   "pygments_lexer": "ipython3",
   "version": "3.11.5"
  }
 },
 "nbformat": 4,
 "nbformat_minor": 5
}
